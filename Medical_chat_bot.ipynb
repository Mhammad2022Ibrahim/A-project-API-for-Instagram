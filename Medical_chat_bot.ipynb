{
  "nbformat": 4,
  "nbformat_minor": 0,
  "metadata": {
    "colab": {
      "provenance": [],
      "include_colab_link": true
    },
    "kernelspec": {
      "name": "python3",
      "display_name": "Python 3"
    },
    "language_info": {
      "name": "python"
    },
    "accelerator": "GPU",
    "gpuClass": "standard"
  },
  "cells": [
    {
      "cell_type": "markdown",
      "metadata": {
        "id": "view-in-github",
        "colab_type": "text"
      },
      "source": [
        "<a href=\"https://colab.research.google.com/github/Mhammad2022Ibrahim/A-project-API-for-Facebook/blob/master/Medical_chat_bot.ipynb\" target=\"_parent\"><img src=\"https://colab.research.google.com/assets/colab-badge.svg\" alt=\"Open In Colab\"/></a>"
      ]
    },
    {
      "cell_type": "code",
      "execution_count": 64,
      "metadata": {
        "id": "KTIB7tYkc8OB"
      },
      "outputs": [],
      "source": [
        "import tensorflow as tf\n",
        "import pandas as pd\n",
        "from tensorflow import keras\n",
        "import tensorflow_datasets as tfds\n",
        "import numpy as np\n",
        "import matplotlib.pyplot as plt"
      ]
    },
    {
      "cell_type": "code",
      "source": [
        "df = pd.read_csv('Medical_knowledge_base.csv', encoding='ISO-8859-1')\n",
        "df.head()\n"
      ],
      "metadata": {
        "colab": {
          "base_uri": "https://localhost:8080/",
          "height": 458
        },
        "id": "fYQGnTckOXFo",
        "outputId": "9528a2d3-3155-488f-b7ec-7794a8ae0f74"
      },
      "execution_count": 65,
      "outputs": [
        {
          "output_type": "execute_result",
          "data": {
            "text/plain": [
              "                                  name  \\\n",
              "0                 alveolar proteinosis   \n",
              "1                            pertussis   \n",
              "2                    benzene poisoning   \n",
              "3                 asthmatic bronchitis   \n",
              "4  adult respiratory distress syndrome   \n",
              "\n",
              "                                                desc  \\\n",
              "0  alveolar proteinosis (pap), also known as rose...   \n",
              "1  pertussis (whoopingcough) is an acute respirat...   \n",
              "2  benzene is an aromatic hydrocarbon compound ob...   \n",
              "3  asthmatoid bronchitis, also known as asthmatic...   \n",
              "4  adult respiratory distress syndrome, abbreviat...   \n",
              "\n",
              "                                             prevent  \\\n",
              "0  1, to avoid infection with mycobacterial disea...   \n",
              "1  1, control of the source of infection: in the ...   \n",
              "2  for patients with acute poisoning, you can imm...   \n",
              "3  according to the above section, for children w...   \n",
              "4  patients with high-risk should be closely obse...   \n",
              "\n",
              "                                               cause  \\\n",
              "0  the cause is unknown, and it is speculated tha...   \n",
              "1  (1) causes of the disease the pathogen is b. p...   \n",
              "2  inhalation of benzene vapor or skin contact wi...   \n",
              "3  because a variety of viral and bacterial infec...   \n",
              "4  suppurative infections can cause bacterial tox...   \n",
              "\n",
              "                                             symptom  \\\n",
              "0  ['cyanosis', 'chest pain', 'breathing difficul...   \n",
              "1  ['hanging sound when inhaling', 'sexual cough'...   \n",
              "2    ['disgusting', 'twitching', 'feeling obstacle']   \n",
              "3  ['shrubbing's wheezing', 'wheeling sound', 'ci...   \n",
              "4  ['difficulty breathing', 'purple', 'cardiac re...   \n",
              "\n",
              "                       acompany  \\\n",
              "0  ['multiple lung infections']   \n",
              "1              ['lung atelect']   \n",
              "2                    ['anemia']   \n",
              "3          ['bronchial asthma']   \n",
              "4       ['bacterial pneumonia']   \n",
              "\n",
              "                                 cure_department  \\\n",
              "0  ['internal medicine', 'respiratory medicine']   \n",
              "1           ['pediatrics', 'pediatric medicine']   \n",
              "2                       ['emergency department']   \n",
              "3  ['internal medicine', 'respiratory medicine']   \n",
              "4  ['internal medicine', 'respiratory medicine']   \n",
              "\n",
              "                                        cure_way  \n",
              "0                     ['bronchoalveolar lavage']  \n",
              "1  ['medical treatment', 'supportive treatment']  \n",
              "2  ['medical treatment', 'supportive treatment']  \n",
              "3  ['medical treatment', 'supportive treatment']  \n",
              "4  ['medical treatment', 'supportive treatment']  "
            ],
            "text/html": [
              "\n",
              "  <div id=\"df-71a9cdb2-93f1-4f55-a962-481371a05b0c\">\n",
              "    <div class=\"colab-df-container\">\n",
              "      <div>\n",
              "<style scoped>\n",
              "    .dataframe tbody tr th:only-of-type {\n",
              "        vertical-align: middle;\n",
              "    }\n",
              "\n",
              "    .dataframe tbody tr th {\n",
              "        vertical-align: top;\n",
              "    }\n",
              "\n",
              "    .dataframe thead th {\n",
              "        text-align: right;\n",
              "    }\n",
              "</style>\n",
              "<table border=\"1\" class=\"dataframe\">\n",
              "  <thead>\n",
              "    <tr style=\"text-align: right;\">\n",
              "      <th></th>\n",
              "      <th>name</th>\n",
              "      <th>desc</th>\n",
              "      <th>prevent</th>\n",
              "      <th>cause</th>\n",
              "      <th>symptom</th>\n",
              "      <th>acompany</th>\n",
              "      <th>cure_department</th>\n",
              "      <th>cure_way</th>\n",
              "    </tr>\n",
              "  </thead>\n",
              "  <tbody>\n",
              "    <tr>\n",
              "      <th>0</th>\n",
              "      <td>alveolar proteinosis</td>\n",
              "      <td>alveolar proteinosis (pap), also known as rose...</td>\n",
              "      <td>1, to avoid infection with mycobacterial disea...</td>\n",
              "      <td>the cause is unknown, and it is speculated tha...</td>\n",
              "      <td>['cyanosis', 'chest pain', 'breathing difficul...</td>\n",
              "      <td>['multiple lung infections']</td>\n",
              "      <td>['internal medicine', 'respiratory medicine']</td>\n",
              "      <td>['bronchoalveolar lavage']</td>\n",
              "    </tr>\n",
              "    <tr>\n",
              "      <th>1</th>\n",
              "      <td>pertussis</td>\n",
              "      <td>pertussis (whoopingcough) is an acute respirat...</td>\n",
              "      <td>1, control of the source of infection: in the ...</td>\n",
              "      <td>(1) causes of the disease the pathogen is b. p...</td>\n",
              "      <td>['hanging sound when inhaling', 'sexual cough'...</td>\n",
              "      <td>['lung atelect']</td>\n",
              "      <td>['pediatrics', 'pediatric medicine']</td>\n",
              "      <td>['medical treatment', 'supportive treatment']</td>\n",
              "    </tr>\n",
              "    <tr>\n",
              "      <th>2</th>\n",
              "      <td>benzene poisoning</td>\n",
              "      <td>benzene is an aromatic hydrocarbon compound ob...</td>\n",
              "      <td>for patients with acute poisoning, you can imm...</td>\n",
              "      <td>inhalation of benzene vapor or skin contact wi...</td>\n",
              "      <td>['disgusting', 'twitching', 'feeling obstacle']</td>\n",
              "      <td>['anemia']</td>\n",
              "      <td>['emergency department']</td>\n",
              "      <td>['medical treatment', 'supportive treatment']</td>\n",
              "    </tr>\n",
              "    <tr>\n",
              "      <th>3</th>\n",
              "      <td>asthmatic bronchitis</td>\n",
              "      <td>asthmatoid bronchitis, also known as asthmatic...</td>\n",
              "      <td>according to the above section, for children w...</td>\n",
              "      <td>because a variety of viral and bacterial infec...</td>\n",
              "      <td>['shrubbing's wheezing', 'wheeling sound', 'ci...</td>\n",
              "      <td>['bronchial asthma']</td>\n",
              "      <td>['internal medicine', 'respiratory medicine']</td>\n",
              "      <td>['medical treatment', 'supportive treatment']</td>\n",
              "    </tr>\n",
              "    <tr>\n",
              "      <th>4</th>\n",
              "      <td>adult respiratory distress syndrome</td>\n",
              "      <td>adult respiratory distress syndrome, abbreviat...</td>\n",
              "      <td>patients with high-risk should be closely obse...</td>\n",
              "      <td>suppurative infections can cause bacterial tox...</td>\n",
              "      <td>['difficulty breathing', 'purple', 'cardiac re...</td>\n",
              "      <td>['bacterial pneumonia']</td>\n",
              "      <td>['internal medicine', 'respiratory medicine']</td>\n",
              "      <td>['medical treatment', 'supportive treatment']</td>\n",
              "    </tr>\n",
              "  </tbody>\n",
              "</table>\n",
              "</div>\n",
              "      <button class=\"colab-df-convert\" onclick=\"convertToInteractive('df-71a9cdb2-93f1-4f55-a962-481371a05b0c')\"\n",
              "              title=\"Convert this dataframe to an interactive table.\"\n",
              "              style=\"display:none;\">\n",
              "        \n",
              "  <svg xmlns=\"http://www.w3.org/2000/svg\" height=\"24px\"viewBox=\"0 0 24 24\"\n",
              "       width=\"24px\">\n",
              "    <path d=\"M0 0h24v24H0V0z\" fill=\"none\"/>\n",
              "    <path d=\"M18.56 5.44l.94 2.06.94-2.06 2.06-.94-2.06-.94-.94-2.06-.94 2.06-2.06.94zm-11 1L8.5 8.5l.94-2.06 2.06-.94-2.06-.94L8.5 2.5l-.94 2.06-2.06.94zm10 10l.94 2.06.94-2.06 2.06-.94-2.06-.94-.94-2.06-.94 2.06-2.06.94z\"/><path d=\"M17.41 7.96l-1.37-1.37c-.4-.4-.92-.59-1.43-.59-.52 0-1.04.2-1.43.59L10.3 9.45l-7.72 7.72c-.78.78-.78 2.05 0 2.83L4 21.41c.39.39.9.59 1.41.59.51 0 1.02-.2 1.41-.59l7.78-7.78 2.81-2.81c.8-.78.8-2.07 0-2.86zM5.41 20L4 18.59l7.72-7.72 1.47 1.35L5.41 20z\"/>\n",
              "  </svg>\n",
              "      </button>\n",
              "      \n",
              "  <style>\n",
              "    .colab-df-container {\n",
              "      display:flex;\n",
              "      flex-wrap:wrap;\n",
              "      gap: 12px;\n",
              "    }\n",
              "\n",
              "    .colab-df-convert {\n",
              "      background-color: #E8F0FE;\n",
              "      border: none;\n",
              "      border-radius: 50%;\n",
              "      cursor: pointer;\n",
              "      display: none;\n",
              "      fill: #1967D2;\n",
              "      height: 32px;\n",
              "      padding: 0 0 0 0;\n",
              "      width: 32px;\n",
              "    }\n",
              "\n",
              "    .colab-df-convert:hover {\n",
              "      background-color: #E2EBFA;\n",
              "      box-shadow: 0px 1px 2px rgba(60, 64, 67, 0.3), 0px 1px 3px 1px rgba(60, 64, 67, 0.15);\n",
              "      fill: #174EA6;\n",
              "    }\n",
              "\n",
              "    [theme=dark] .colab-df-convert {\n",
              "      background-color: #3B4455;\n",
              "      fill: #D2E3FC;\n",
              "    }\n",
              "\n",
              "    [theme=dark] .colab-df-convert:hover {\n",
              "      background-color: #434B5C;\n",
              "      box-shadow: 0px 1px 3px 1px rgba(0, 0, 0, 0.15);\n",
              "      filter: drop-shadow(0px 1px 2px rgba(0, 0, 0, 0.3));\n",
              "      fill: #FFFFFF;\n",
              "    }\n",
              "  </style>\n",
              "\n",
              "      <script>\n",
              "        const buttonEl =\n",
              "          document.querySelector('#df-71a9cdb2-93f1-4f55-a962-481371a05b0c button.colab-df-convert');\n",
              "        buttonEl.style.display =\n",
              "          google.colab.kernel.accessAllowed ? 'block' : 'none';\n",
              "\n",
              "        async function convertToInteractive(key) {\n",
              "          const element = document.querySelector('#df-71a9cdb2-93f1-4f55-a962-481371a05b0c');\n",
              "          const dataTable =\n",
              "            await google.colab.kernel.invokeFunction('convertToInteractive',\n",
              "                                                     [key], {});\n",
              "          if (!dataTable) return;\n",
              "\n",
              "          const docLinkHtml = 'Like what you see? Visit the ' +\n",
              "            '<a target=\"_blank\" href=https://colab.research.google.com/notebooks/data_table.ipynb>data table notebook</a>'\n",
              "            + ' to learn more about interactive tables.';\n",
              "          element.innerHTML = '';\n",
              "          dataTable['output_type'] = 'display_data';\n",
              "          await google.colab.output.renderOutput(dataTable, element);\n",
              "          const docLink = document.createElement('div');\n",
              "          docLink.innerHTML = docLinkHtml;\n",
              "          element.appendChild(docLink);\n",
              "        }\n",
              "      </script>\n",
              "    </div>\n",
              "  </div>\n",
              "  "
            ]
          },
          "metadata": {},
          "execution_count": 65
        }
      ]
    },
    {
      "cell_type": "code",
      "source": [
        "desc = df['desc']\n",
        "symptom = df['symptom']\n",
        "input_text = desc + ' .And I have this symptoms: ' + symptom\n",
        "with open('input_text.txt', 'w') as f:\n",
        "    for text in input_text:\n",
        "        f.write(text + '\\n')\n"
      ],
      "metadata": {
        "id": "TtQWJl9H0K3Z"
      },
      "execution_count": 66,
      "outputs": []
    },
    {
      "cell_type": "code",
      "source": [
        "import tensorflow_hub as hub\n",
        "model = hub.load(\"https://tfhub.dev/prvi/tf2nq/1\")"
      ],
      "metadata": {
        "id": "dT3AmhTqibPc"
      },
      "execution_count": 67,
      "outputs": []
    },
    {
      "cell_type": "code",
      "source": [
        "def post_process(model_output,n_keep=100):\n",
        "    pos_logits,ans_logits,long_mask,short_mask,cross = model_output\n",
        "    long_span_logits =  pos_logits\n",
        "    mask = tf.cast(tf.expand_dims(long_mask,-1),long_span_logits.dtype)\n",
        "    long_span_logits = (1-mask)*tf.float32.min + mask*long_span_logits\n",
        "    # Get top span positions\n",
        "    top_long_indices = tf.argsort(long_span_logits, direction=\"DESCENDING\")\n",
        "    top_long_indices = tf.unravel_index(top_long_indices[:n_keep], tf.shape(long_span_logits))\n",
        "    top_long_indices = tf.sort(tf.transpose(top_long_indices)).numpy()\n",
        "    answers = []\n",
        "    for start, end in top_long_indices:\n",
        "        long_span = {\n",
        "            \"start_token\": start.numpy(),\n",
        "            \"end_token\": end.numpy(),\n",
        "            \"score\": long_span_logits[start, end].numpy(),\n",
        "            \"cure_way\": df['cure_way'][start.numpy()]\n",
        "        }\n",
        "        answers.append(long_span)\n",
        "    return answers\n"
      ],
      "metadata": {
        "id": "OVmhUPg_1hm8"
      },
      "execution_count": 68,
      "outputs": []
    },
    {
      "cell_type": "code",
      "source": [
        "print(model.signatures.keys())\n"
      ],
      "metadata": {
        "colab": {
          "base_uri": "https://localhost:8080/"
        },
        "id": "xZQxwRNJ4KXa",
        "outputId": "9af550bc-a155-4226-f813-857bffd94810"
      },
      "execution_count": 69,
      "outputs": [
        {
          "output_type": "stream",
          "name": "stdout",
          "text": [
            "KeysView(_SignatureMap({'serving_default': <ConcreteFunction signature_wrapper(data_len, input_word_ids, question_len) at 0x7FB27D1CB340>}))\n"
          ]
        }
      ]
    },
    {
      "cell_type": "code",
      "source": [
        "from collections import Counter\n",
        "import nltk\n",
        "nltk.download('punkt')\n",
        "\n",
        "# Tokenize the data\n",
        "tokens = []\n",
        "for text in input_text:\n",
        "    tokens += nltk.word_tokenize(text)\n",
        "\n",
        "# Create the vocabulary\n",
        "vocab_count = Counter(tokens)\n",
        "vocab = {}\n",
        "for i, (word, count) in enumerate(vocab_count.most_common()):\n",
        "    vocab[word] = i + 1  # Reserve 0 for padding\n",
        "\n",
        "UNK_TOKEN = '[UNK]'\n",
        "vocab = {'word1': 1, 'word2': 2, UNK_TOKEN: len(vocab)+1}"
      ],
      "metadata": {
        "colab": {
          "base_uri": "https://localhost:8080/"
        },
        "id": "-vCXCyga4fsZ",
        "outputId": "8b3b457f-641d-4977-a485-8d3fb5bbb070"
      },
      "execution_count": 70,
      "outputs": [
        {
          "output_type": "stream",
          "name": "stderr",
          "text": [
            "[nltk_data] Downloading package punkt to /root/nltk_data...\n",
            "[nltk_data]   Package punkt is already up-to-date!\n"
          ]
        }
      ]
    },
    {
      "cell_type": "code",
      "source": [
        "# Load the input text from file\n",
        "with open('input_text.txt', 'r') as f:\n",
        "    input_text = f.read().splitlines()\n",
        "\n",
        "# Process each input separately\n",
        "for text in input_text:\n",
        "    # Run the chatbot model\n",
        "    data_len = tf.constant([len(text.split())])\n",
        "    input_words = text.split()\n",
        "    input_word_ids = []\n",
        "    for word in input_words:\n",
        "      if word in vocab:\n",
        "        input_word_ids.append(vocab[word])\n",
        "      else:\n",
        "        input_word_ids.append(vocab[UNK_TOKEN])\n",
        "\n",
        "    question_len = tf.constant([len(str(symptom).split())])\n",
        "\n",
        "    model_output = model.signatures['serving_default'](\n",
        "    data_len=tf.constant(data_len),\n",
        "    input_word_ids=tf.constant(input_word_ids),\n",
        "    question_len=tf.constant(question_len))\n",
        "\n",
        "    # Post-process the output to get the answers\n",
        "    answers = post_process(model_output)\n"
      ],
      "metadata": {
        "colab": {
          "base_uri": "https://localhost:8080/",
          "height": 454
        },
        "id": "iVQCtkav3bEa",
        "outputId": "420177a6-ba0d-4850-9dce-6ba0639377e5"
      },
      "execution_count": 76,
      "outputs": [
        {
          "output_type": "error",
          "ename": "InvalidArgumentError",
          "evalue": "ignored",
          "traceback": [
            "\u001b[0;31m---------------------------------------------------------------------------\u001b[0m",
            "\u001b[0;31mInvalidArgumentError\u001b[0m                      Traceback (most recent call last)",
            "\u001b[0;32m<ipython-input-76-e1b2949f81c8>\u001b[0m in \u001b[0;36m<module>\u001b[0;34m\u001b[0m\n\u001b[1;32m     17\u001b[0m     \u001b[0mquestion_len\u001b[0m \u001b[0;34m=\u001b[0m \u001b[0mtf\u001b[0m\u001b[0;34m.\u001b[0m\u001b[0mconstant\u001b[0m\u001b[0;34m(\u001b[0m\u001b[0;34m[\u001b[0m\u001b[0mlen\u001b[0m\u001b[0;34m(\u001b[0m\u001b[0mstr\u001b[0m\u001b[0;34m(\u001b[0m\u001b[0msymptom\u001b[0m\u001b[0;34m)\u001b[0m\u001b[0;34m.\u001b[0m\u001b[0msplit\u001b[0m\u001b[0;34m(\u001b[0m\u001b[0;34m)\u001b[0m\u001b[0;34m)\u001b[0m\u001b[0;34m]\u001b[0m\u001b[0;34m)\u001b[0m\u001b[0;34m\u001b[0m\u001b[0;34m\u001b[0m\u001b[0m\n\u001b[1;32m     18\u001b[0m \u001b[0;34m\u001b[0m\u001b[0m\n\u001b[0;32m---> 19\u001b[0;31m     model_output = model.signatures['serving_default'](\n\u001b[0m\u001b[1;32m     20\u001b[0m     \u001b[0mdata_len\u001b[0m\u001b[0;34m=\u001b[0m\u001b[0mtf\u001b[0m\u001b[0;34m.\u001b[0m\u001b[0mconstant\u001b[0m\u001b[0;34m(\u001b[0m\u001b[0mdata_len\u001b[0m\u001b[0;34m)\u001b[0m\u001b[0;34m,\u001b[0m\u001b[0;34m\u001b[0m\u001b[0;34m\u001b[0m\u001b[0m\n\u001b[1;32m     21\u001b[0m     \u001b[0minput_word_ids\u001b[0m\u001b[0;34m=\u001b[0m\u001b[0mtf\u001b[0m\u001b[0;34m.\u001b[0m\u001b[0mconstant\u001b[0m\u001b[0;34m(\u001b[0m\u001b[0minput_word_ids\u001b[0m\u001b[0;34m)\u001b[0m\u001b[0;34m,\u001b[0m\u001b[0;34m\u001b[0m\u001b[0;34m\u001b[0m\u001b[0m\n",
            "\u001b[0;32m/usr/local/lib/python3.8/dist-packages/tensorflow/python/eager/polymorphic_function/monomorphic_function.py\u001b[0m in \u001b[0;36m__call__\u001b[0;34m(self, *args, **kwargs)\u001b[0m\n\u001b[1;32m   1472\u001b[0m       \u001b[0mTypeError\u001b[0m\u001b[0;34m:\u001b[0m \u001b[0mIf\u001b[0m \u001b[0mthe\u001b[0m \u001b[0marguments\u001b[0m \u001b[0mdo\u001b[0m \u001b[0;32mnot\u001b[0m \u001b[0mmatch\u001b[0m \u001b[0mthe\u001b[0m \u001b[0mfunction\u001b[0m\u001b[0;31m'\u001b[0m\u001b[0ms\u001b[0m \u001b[0msignature\u001b[0m\u001b[0;34m.\u001b[0m\u001b[0;34m\u001b[0m\u001b[0;34m\u001b[0m\u001b[0m\n\u001b[1;32m   1473\u001b[0m     \"\"\"\n\u001b[0;32m-> 1474\u001b[0;31m     \u001b[0;32mreturn\u001b[0m \u001b[0mself\u001b[0m\u001b[0;34m.\u001b[0m\u001b[0m_call_impl\u001b[0m\u001b[0;34m(\u001b[0m\u001b[0margs\u001b[0m\u001b[0;34m,\u001b[0m \u001b[0mkwargs\u001b[0m\u001b[0;34m)\u001b[0m\u001b[0;34m\u001b[0m\u001b[0;34m\u001b[0m\u001b[0m\n\u001b[0m\u001b[1;32m   1475\u001b[0m \u001b[0;34m\u001b[0m\u001b[0m\n\u001b[1;32m   1476\u001b[0m   \u001b[0;32mdef\u001b[0m \u001b[0m_call_impl\u001b[0m\u001b[0;34m(\u001b[0m\u001b[0mself\u001b[0m\u001b[0;34m,\u001b[0m \u001b[0margs\u001b[0m\u001b[0;34m,\u001b[0m \u001b[0mkwargs\u001b[0m\u001b[0;34m,\u001b[0m \u001b[0mcancellation_manager\u001b[0m\u001b[0;34m=\u001b[0m\u001b[0;32mNone\u001b[0m\u001b[0;34m)\u001b[0m\u001b[0;34m:\u001b[0m\u001b[0;34m\u001b[0m\u001b[0;34m\u001b[0m\u001b[0m\n",
            "\u001b[0;32m/usr/local/lib/python3.8/dist-packages/tensorflow/python/eager/polymorphic_function/monomorphic_function.py\u001b[0m in \u001b[0;36m_call_impl\u001b[0;34m(self, args, kwargs, cancellation_manager)\u001b[0m\n\u001b[1;32m   1490\u001b[0m             \u001b[0;32mraise\u001b[0m \u001b[0mstructured_err\u001b[0m\u001b[0;34m\u001b[0m\u001b[0;34m\u001b[0m\u001b[0m\n\u001b[1;32m   1491\u001b[0m \u001b[0;34m\u001b[0m\u001b[0m\n\u001b[0;32m-> 1492\u001b[0;31m       \u001b[0;32mreturn\u001b[0m \u001b[0mself\u001b[0m\u001b[0;34m.\u001b[0m\u001b[0m_call_with_flat_signature\u001b[0m\u001b[0;34m(\u001b[0m\u001b[0margs\u001b[0m\u001b[0;34m,\u001b[0m \u001b[0mkwargs\u001b[0m\u001b[0;34m,\u001b[0m \u001b[0mcancellation_manager\u001b[0m\u001b[0;34m)\u001b[0m\u001b[0;34m\u001b[0m\u001b[0;34m\u001b[0m\u001b[0m\n\u001b[0m\u001b[1;32m   1493\u001b[0m \u001b[0;34m\u001b[0m\u001b[0m\n\u001b[1;32m   1494\u001b[0m   \u001b[0;32mdef\u001b[0m \u001b[0m_call_with_flat_signature\u001b[0m\u001b[0;34m(\u001b[0m\u001b[0mself\u001b[0m\u001b[0;34m,\u001b[0m \u001b[0margs\u001b[0m\u001b[0;34m,\u001b[0m \u001b[0mkwargs\u001b[0m\u001b[0;34m,\u001b[0m \u001b[0mcancellation_manager\u001b[0m\u001b[0;34m)\u001b[0m\u001b[0;34m:\u001b[0m\u001b[0;34m\u001b[0m\u001b[0;34m\u001b[0m\u001b[0m\n",
            "\u001b[0;32m/usr/local/lib/python3.8/dist-packages/tensorflow/python/eager/polymorphic_function/monomorphic_function.py\u001b[0m in \u001b[0;36m_call_with_flat_signature\u001b[0;34m(self, args, kwargs, cancellation_manager)\u001b[0m\n\u001b[1;32m   1539\u001b[0m                         \u001b[0;34mf\"#{i}(zero-based) to be a Tensor; \"\u001b[0m\u001b[0;34m\u001b[0m\u001b[0;34m\u001b[0m\u001b[0m\n\u001b[1;32m   1540\u001b[0m                         f\"got {type(arg).__name__} ({arg}).\")\n\u001b[0;32m-> 1541\u001b[0;31m     \u001b[0;32mreturn\u001b[0m \u001b[0mself\u001b[0m\u001b[0;34m.\u001b[0m\u001b[0m_call_flat\u001b[0m\u001b[0;34m(\u001b[0m\u001b[0margs\u001b[0m\u001b[0;34m,\u001b[0m \u001b[0mself\u001b[0m\u001b[0;34m.\u001b[0m\u001b[0mcaptured_inputs\u001b[0m\u001b[0;34m,\u001b[0m \u001b[0mcancellation_manager\u001b[0m\u001b[0;34m)\u001b[0m\u001b[0;34m\u001b[0m\u001b[0;34m\u001b[0m\u001b[0m\n\u001b[0m\u001b[1;32m   1542\u001b[0m \u001b[0;34m\u001b[0m\u001b[0m\n\u001b[1;32m   1543\u001b[0m   \u001b[0;32mdef\u001b[0m \u001b[0m_call_with_structured_signature\u001b[0m\u001b[0;34m(\u001b[0m\u001b[0mself\u001b[0m\u001b[0;34m,\u001b[0m \u001b[0margs\u001b[0m\u001b[0;34m,\u001b[0m \u001b[0mkwargs\u001b[0m\u001b[0;34m,\u001b[0m \u001b[0mcancellation_manager\u001b[0m\u001b[0;34m)\u001b[0m\u001b[0;34m:\u001b[0m\u001b[0;34m\u001b[0m\u001b[0;34m\u001b[0m\u001b[0m\n",
            "\u001b[0;32m/usr/local/lib/python3.8/dist-packages/tensorflow/python/saved_model/load.py\u001b[0m in \u001b[0;36m_call_flat\u001b[0;34m(self, args, captured_inputs, cancellation_manager)\u001b[0m\n\u001b[1;32m    136\u001b[0m     \u001b[0;32melse\u001b[0m\u001b[0;34m:\u001b[0m  \u001b[0;31m# cross-replica context\u001b[0m\u001b[0;34m\u001b[0m\u001b[0;34m\u001b[0m\u001b[0m\n\u001b[1;32m    137\u001b[0m       \u001b[0mcaptured_inputs\u001b[0m \u001b[0;34m=\u001b[0m \u001b[0mlist\u001b[0m\u001b[0;34m(\u001b[0m\u001b[0mmap\u001b[0m\u001b[0;34m(\u001b[0m\u001b[0mget_unused_handle\u001b[0m\u001b[0;34m,\u001b[0m \u001b[0mcaptured_inputs\u001b[0m\u001b[0;34m)\u001b[0m\u001b[0;34m)\u001b[0m\u001b[0;34m\u001b[0m\u001b[0;34m\u001b[0m\u001b[0m\n\u001b[0;32m--> 138\u001b[0;31m     return super(_WrapperFunction, self)._call_flat(args, captured_inputs,\n\u001b[0m\u001b[1;32m    139\u001b[0m                                                     cancellation_manager)\n\u001b[1;32m    140\u001b[0m \u001b[0;34m\u001b[0m\u001b[0m\n",
            "\u001b[0;32m/usr/local/lib/python3.8/dist-packages/tensorflow/python/eager/polymorphic_function/monomorphic_function.py\u001b[0m in \u001b[0;36m_call_flat\u001b[0;34m(self, args, captured_inputs, cancellation_manager)\u001b[0m\n\u001b[1;32m   1743\u001b[0m         and executing_eagerly):\n\u001b[1;32m   1744\u001b[0m       \u001b[0;31m# No tape is watching; skip to running the function.\u001b[0m\u001b[0;34m\u001b[0m\u001b[0;34m\u001b[0m\u001b[0;34m\u001b[0m\u001b[0m\n\u001b[0;32m-> 1745\u001b[0;31m       return self._build_call_outputs(self._inference_function.call(\n\u001b[0m\u001b[1;32m   1746\u001b[0m           ctx, args, cancellation_manager=cancellation_manager))\n\u001b[1;32m   1747\u001b[0m     forward_backward = self._select_forward_and_backward_functions(\n",
            "\u001b[0;32m/usr/local/lib/python3.8/dist-packages/tensorflow/python/eager/polymorphic_function/monomorphic_function.py\u001b[0m in \u001b[0;36mcall\u001b[0;34m(self, ctx, args, cancellation_manager)\u001b[0m\n\u001b[1;32m    376\u001b[0m       \u001b[0;32mwith\u001b[0m \u001b[0m_InterpolateFunctionError\u001b[0m\u001b[0;34m(\u001b[0m\u001b[0mself\u001b[0m\u001b[0;34m)\u001b[0m\u001b[0;34m:\u001b[0m\u001b[0;34m\u001b[0m\u001b[0;34m\u001b[0m\u001b[0m\n\u001b[1;32m    377\u001b[0m         \u001b[0;32mif\u001b[0m \u001b[0mcancellation_manager\u001b[0m \u001b[0;32mis\u001b[0m \u001b[0;32mNone\u001b[0m\u001b[0;34m:\u001b[0m\u001b[0;34m\u001b[0m\u001b[0;34m\u001b[0m\u001b[0m\n\u001b[0;32m--> 378\u001b[0;31m           outputs = execute.execute(\n\u001b[0m\u001b[1;32m    379\u001b[0m               \u001b[0mstr\u001b[0m\u001b[0;34m(\u001b[0m\u001b[0mself\u001b[0m\u001b[0;34m.\u001b[0m\u001b[0msignature\u001b[0m\u001b[0;34m.\u001b[0m\u001b[0mname\u001b[0m\u001b[0;34m)\u001b[0m\u001b[0;34m,\u001b[0m\u001b[0;34m\u001b[0m\u001b[0;34m\u001b[0m\u001b[0m\n\u001b[1;32m    380\u001b[0m               \u001b[0mnum_outputs\u001b[0m\u001b[0;34m=\u001b[0m\u001b[0mself\u001b[0m\u001b[0;34m.\u001b[0m\u001b[0m_num_outputs\u001b[0m\u001b[0;34m,\u001b[0m\u001b[0;34m\u001b[0m\u001b[0;34m\u001b[0m\u001b[0m\n",
            "\u001b[0;32m/usr/local/lib/python3.8/dist-packages/tensorflow/python/eager/execute.py\u001b[0m in \u001b[0;36mquick_execute\u001b[0;34m(op_name, num_outputs, inputs, attrs, ctx, name)\u001b[0m\n\u001b[1;32m     50\u001b[0m   \u001b[0;32mtry\u001b[0m\u001b[0;34m:\u001b[0m\u001b[0;34m\u001b[0m\u001b[0;34m\u001b[0m\u001b[0m\n\u001b[1;32m     51\u001b[0m     \u001b[0mctx\u001b[0m\u001b[0;34m.\u001b[0m\u001b[0mensure_initialized\u001b[0m\u001b[0;34m(\u001b[0m\u001b[0;34m)\u001b[0m\u001b[0;34m\u001b[0m\u001b[0;34m\u001b[0m\u001b[0m\n\u001b[0;32m---> 52\u001b[0;31m     tensors = pywrap_tfe.TFE_Py_Execute(ctx._handle, device_name, op_name,\n\u001b[0m\u001b[1;32m     53\u001b[0m                                         inputs, attrs, num_outputs)\n\u001b[1;32m     54\u001b[0m   \u001b[0;32mexcept\u001b[0m \u001b[0mcore\u001b[0m\u001b[0;34m.\u001b[0m\u001b[0m_NotOkStatusException\u001b[0m \u001b[0;32mas\u001b[0m \u001b[0me\u001b[0m\u001b[0;34m:\u001b[0m\u001b[0;34m\u001b[0m\u001b[0;34m\u001b[0m\u001b[0m\n",
            "\u001b[0;31mInvalidArgumentError\u001b[0m: Graph execution error:\n\nInput to reshape is a tensor with 70656 values, but the requested shape has 36175872\n\t [[{{node nq_model/transformer_encoder/word_embeddings/Reshape_1}}]] [Op:__inference_signature_wrapper_95854]"
          ]
        }
      ]
    },
    {
      "cell_type": "code",
      "source": [
        "# Print the answer with the highest score\n",
        "if len(answers) > 0:\n",
        "  print(f\"Question: {text}\")\n",
        "  print(f\"Answer: {answers[0]['cure_way']}\")\n",
        "else:\n",
        "  print(f\"No answer found for question: {text}\")"
      ],
      "metadata": {
        "id": "o43RIN_J-SOn"
      },
      "execution_count": null,
      "outputs": []
    },
    {
      "cell_type": "code",
      "source": [],
      "metadata": {
        "id": "qzd6UyNZ-c-E"
      },
      "execution_count": null,
      "outputs": []
    }
  ]
}